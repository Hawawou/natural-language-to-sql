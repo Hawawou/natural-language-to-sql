{
 "cells": [
  {
   "cell_type": "code",
   "execution_count": null,
   "metadata": {},
   "outputs": [],
   "source": [
    "from transformers import BartForConditionalGeneration, BartTokenizer, get_scheduler\n",
    "from datasets import load_dataset\n",
    "import torch\n",
    "import pandas as pd\n",
    "import json\n",
    "from torch.utils.data import DataLoader, Dataset"
   ]
  },
  {
   "cell_type": "code",
   "execution_count": null,
   "metadata": {},
   "outputs": [],
   "source": [
    "import kagglehub\n",
    "\n",
    "# Download latest version\n",
    "path = kagglehub.dataset_download(\"shahrukhkhan/wikisql\")\n",
    "\n",
    "print(\"Path to dataset files:\", path)"
   ]
  },
  {
   "cell_type": "code",
   "execution_count": null,
   "metadata": {},
   "outputs": [],
   "source": [
    "dataset = load_dataset(path)\n",
    "data_train = dataset['train']\n",
    "data_test = dataset['test']\n",
    "data_valid = dataset['validation']\n",
    "\n",
    "data_train = pd.DataFrame(data_train)\n",
    "data_test = pd.DataFrame(data_test)\n",
    "data_valid = pd.DataFrame(data_valid)\n",
    "\n",
    "data_train.head()\n"
   ]
  },
  {
   "cell_type": "code",
   "execution_count": null,
   "metadata": {},
   "outputs": [],
   "source": [
    "def preprocess_data(data):\n",
    "    data = data.dropna()\n",
    "    data = data.drop_duplicates()\n",
    "    data = data.drop(columns=[\"id\"])\n",
    "    data = data.reset_index(drop=True)\n",
    "    return data"
   ]
  },
  {
   "cell_type": "code",
   "execution_count": null,
   "metadata": {},
   "outputs": [],
   "source": [
    "data_train = preprocess_data(data_train)\n",
    "data_test = preprocess_data(data_test)\n",
    "data_valid = preprocess_data(data_valid)\n",
    "\n",
    "data_train.head()"
   ]
  },
  {
   "cell_type": "code",
   "execution_count": null,
   "metadata": {},
   "outputs": [],
   "source": [
    "questions = data_train['question'].tolist()\n",
    "sql_queries = data_train['answer'].tolist()\n",
    "\n",
    "test_questions = data_test['question'].tolist()\n",
    "test_sql_queries = data_test['answer'].tolist()\n",
    "\n",
    "valid_questions = data_valid['question'].tolist()\n",
    "valid_sql_queries = data_valid['answer'].tolist()"
   ]
  },
  {
   "cell_type": "code",
   "execution_count": null,
   "metadata": {},
   "outputs": [],
   "source": [
    "tokenizer = BartTokenizer.from_pretrained('facebook/bart-large')\n",
    "\n",
    "# OOV token\n",
    "tokenizer.pad_token = tokenizer.unk_token\n",
    "tokenizer.pad_token_id = tokenizer.unk_token_id\n",
    "\n",
    "\n",
    "# padding side\n",
    "tokenizer.pad_padding_side = \"right\"\n",
    "\n",
    "tokenized_input = tokenizer(questions, padding=True, truncation=True, return_tensors=\"pt\")\n",
    "tokenized_output = tokenizer(sql_queries, padding=True, truncation=True, return_tensors=\"pt\")\n",
    "\n",
    "\n",
    "\n",
    "device = torch.device('cuda') if torch.cuda.is_available() else torch.device('cpu')\n",
    "\n",
    "model = BartForConditionalGeneration.from_pretrained('facebook/bart-large').to(device)"
   ]
  },
  {
   "cell_type": "code",
   "execution_count": null,
   "metadata": {},
   "outputs": [],
   "source": [
    "class SQLDataset(Dataset):\n",
    "    def __init__(self, tokenizer, questions, sql_queries, max_length):\n",
    "        self.tokenizer = tokenizer\n",
    "        self.input_sequence = questions\n",
    "        self.target = sql_queries\n",
    "        self.max_length = max_length\n",
    "\n",
    "    def __len__(self):\n",
    "        return len(self.input_sequence)\n",
    "    \n",
    "    def __getitem__(self, idx):\n",
    "        input_sequence = self.input_sequence[idx]\n",
    "        target = self.target[idx]\n",
    "        tokenized_input = self.tokenizer(input_sequence, padding=\"max_length\", truncation=True, return_tensors=\"pt\", max_length=self.max_length)\n",
    "        tokenized_output = self.tokenizer(target, padding=\"max_length\", truncation=True, return_tensors=\"pt\", max_length = self.max_length)\n",
    "\n",
    "        return {\n",
    "            \"input_ids\": tokenized_input.input_ids.squeeze(0),\n",
    "            \"attention_mask\": tokenized_input.attention_mask.squeeze(0),\n",
    "            \"labels\": tokenized_output.input_ids.squeeze(0),\n",
    "            \"decoder_attention_mask\": tokenized_output.attention_mask.squeeze(0)\n",
    "        }"
   ]
  },
  {
   "cell_type": "code",
   "execution_count": null,
   "metadata": {},
   "outputs": [],
   "source": [
    "train_dataset = SQLDataset(tokenizer, questions, sql_queries, 512)\n",
    "train_loader = DataLoader(train_dataset, batch_size=8, shuffle=True)\n",
    "\n",
    "test_dataset = SQLDataset(tokenizer, test_questions, test_sql_queries, 512)\n",
    "test_loader = DataLoader(test_dataset, batch_size=8, shuffle=True)\n",
    "\n",
    "valid_dataset = SQLDataset(tokenizer, valid_questions, valid_sql_queries, 512)\n",
    "valid_loader = DataLoader(valid_dataset, batch_size=8, shuffle=True)"
   ]
  },
  {
   "cell_type": "code",
   "execution_count": null,
   "metadata": {},
   "outputs": [],
   "source": [
    "# optimizer = torch.optim.AdamW(model.parameters(), lr=5e-5)\n",
    "\n",
    "# num_training_steps = num_epochs * len(train_dl)\n",
    "# lr_scheduler = get_scheduler(\n",
    "#     \"linear\",\n",
    "#     optimizer=optimizer,\n",
    "#     num_warmup_steps=0,\n",
    "#     num_training_steps=num_training_steps,\n",
    "# )\n",
    "\n",
    "# progress_bar = tqdm(range(num_training_steps))\n",
    "# num_epochs = 10\n",
    "# for epoch in range(num_epochs):\n",
    "#     for batch in train_loader:\n",
    "#         input_ids = batch[\"input_ids\"].to(device)\n",
    "#         attention_mask = batch[\"attention_mask\"].to(device)\n",
    "#         labels = batch[\"labels\"].to(device)\n",
    "#         decoder_attention_mask = batch[\"decoder_attention_mask\"].to(device)\n",
    "\n",
    "#         outputs = model(input_ids=input_ids, attention_mask=attention_mask, labels=labels, decoder_attention_mask=decoder_attention_mask)\n",
    "#         loss = outputs.loss\n",
    "#         loss.backward()\n",
    "#         optimizer.step()\n",
    "#         optimizer.zero_grad()\n",
    "\n",
    "#     print(f\"Epoch {epoch} Loss: {loss.item()}\")"
   ]
  },
  {
   "cell_type": "code",
   "execution_count": null,
   "metadata": {},
   "outputs": [],
   "source": [
    "from transformers import Trainer, TrainingArguments\n",
    "\n",
    "training_args = TrainingArguments(\n",
    "    output_dir='./results',          \n",
    "    num_train_epochs=2,             \n",
    "    per_device_train_batch_size=8,  \n",
    "    per_device_eval_batch_size=8,    \n",
    "    warmup_steps=500,                \n",
    "    weight_decay=0.01,               \n",
    "    logging_dir='./logs',           \n",
    "    logging_steps=10,                \n",
    "    evaluation_strategy=\"epoch\",     \n",
    "    report_to='none'                \n",
    ")"
   ]
  },
  {
   "cell_type": "code",
   "execution_count": null,
   "metadata": {},
   "outputs": [],
   "source": [
    "trainer = Trainer(\n",
    "    model = model,\n",
    "    args = training_args,\n",
    "    train_dataset = train_dataset,\n",
    "    eval_dataset = valid_dataset\n",
    ")\n",
    "\n",
    "trainer.train()\n",
    "\n",
    "# Save model\n",
    "model.save_pretrained(\"sql_model\")"
   ]
  },
  {
   "cell_type": "code",
   "execution_count": null,
   "metadata": {},
   "outputs": [],
   "source": [
    "import evaluate\n",
    "\n",
    "metric = evaluate.load()"
   ]
  }
 ],
 "metadata": {
  "kernelspec": {
   "display_name": "venv",
   "language": "python",
   "name": "python3"
  },
  "language_info": {
   "codemirror_mode": {
    "name": "ipython",
    "version": 3
   },
   "file_extension": ".py",
   "mimetype": "text/x-python",
   "name": "python",
   "nbconvert_exporter": "python",
   "pygments_lexer": "ipython3",
   "version": "3.12.7"
  }
 },
 "nbformat": 4,
 "nbformat_minor": 2
}
